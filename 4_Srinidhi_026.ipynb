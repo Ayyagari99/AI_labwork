{
  "nbformat": 4,
  "nbformat_minor": 0,
  "metadata": {
    "colab": {
      "name": "4_Srinidhi_026.ipynb",
      "provenance": [],
      "collapsed_sections": [],
      "authorship_tag": "ABX9TyMwuWCiBuZUxoaT3DgQvskW",
      "include_colab_link": true
    },
    "kernelspec": {
      "name": "python3",
      "display_name": "Python 3"
    }
  },
  "cells": [
    {
      "cell_type": "markdown",
      "metadata": {
        "id": "view-in-github",
        "colab_type": "text"
      },
      "source": [
        "<a href=\"https://colab.research.google.com/github/Ayyagari99/AI_labwork/blob/main/4_Srinidhi_026.ipynb\" target=\"_parent\"><img src=\"https://colab.research.google.com/assets/colab-badge.svg\" alt=\"Open In Colab\"/></a>"
      ]
    },
    {
      "cell_type": "markdown",
      "metadata": {
        "id": "YMhIvo0t-4KM"
      },
      "source": [
        "# Question 1:\r\n",
        "1. Load the dataset and perform following pre-processing tasks:\r\n",
        "\r\n",
        "\t1.1 Remove the first column of ‘Unnamed: 0’\r\n",
        "\r\n",
        "\t1.2 Detect missing values, and replace them with the mean.\r\n",
        "  \r\n",
        "  1.3 Draw box-plots for each attribute to detect if there are any outliers. If there are outliers, ignore them for now.\r\n",
        "  \r\n",
        "  1.4 Normalize all attributes within the range of 0 to 1.\r\n"
      ]
    },
    {
      "cell_type": "code",
      "metadata": {
        "id": "xjZvnaJxESPi"
      },
      "source": [
        "import numpy as np\r\n",
        "import pandas as pd\r\n",
        "import matplotlib.pyplot as plt\r\n"
      ],
      "execution_count": null,
      "outputs": []
    },
    {
      "cell_type": "code",
      "metadata": {
        "colab": {
          "base_uri": "https://localhost:8080/",
          "height": 415
        },
        "id": "5i-uldXU-3Fx",
        "outputId": "5d628837-1e66-4f73-9708-d3dde3339088"
      },
      "source": [
        "df = pd.read_csv(\"/content/popularity.csv\") #the dataframe\r\n",
        "df"
      ],
      "execution_count": null,
      "outputs": [
        {
          "output_type": "execute_result",
          "data": {
            "text/html": [
              "<div>\n",
              "<style scoped>\n",
              "    .dataframe tbody tr th:only-of-type {\n",
              "        vertical-align: middle;\n",
              "    }\n",
              "\n",
              "    .dataframe tbody tr th {\n",
              "        vertical-align: top;\n",
              "    }\n",
              "\n",
              "    .dataframe thead th {\n",
              "        text-align: right;\n",
              "    }\n",
              "</style>\n",
              "<table border=\"1\" class=\"dataframe\">\n",
              "  <thead>\n",
              "    <tr style=\"text-align: right;\">\n",
              "      <th></th>\n",
              "      <th>Unnamed: 0</th>\n",
              "      <th>avg_shares</th>\n",
              "      <th>avg_comments</th>\n",
              "      <th>avg_expert</th>\n",
              "      <th>popularity_score</th>\n",
              "    </tr>\n",
              "  </thead>\n",
              "  <tbody>\n",
              "    <tr>\n",
              "      <th>0</th>\n",
              "      <td>19</td>\n",
              "      <td>147.3</td>\n",
              "      <td>23.9</td>\n",
              "      <td>19.1</td>\n",
              "      <td>14.6</td>\n",
              "    </tr>\n",
              "    <tr>\n",
              "      <th>1</th>\n",
              "      <td>91</td>\n",
              "      <td>28.6</td>\n",
              "      <td>1.5</td>\n",
              "      <td>33.0</td>\n",
              "      <td>7.3</td>\n",
              "    </tr>\n",
              "    <tr>\n",
              "      <th>2</th>\n",
              "      <td>166</td>\n",
              "      <td>17.9</td>\n",
              "      <td>37.6</td>\n",
              "      <td>21.6</td>\n",
              "      <td>8.0</td>\n",
              "    </tr>\n",
              "    <tr>\n",
              "      <th>3</th>\n",
              "      <td>196</td>\n",
              "      <td>94.2</td>\n",
              "      <td>4.9</td>\n",
              "      <td>8.1</td>\n",
              "      <td>9.7</td>\n",
              "    </tr>\n",
              "    <tr>\n",
              "      <th>4</th>\n",
              "      <td>42</td>\n",
              "      <td>293.6</td>\n",
              "      <td>27.7</td>\n",
              "      <td>1.8</td>\n",
              "      <td>20.7</td>\n",
              "    </tr>\n",
              "    <tr>\n",
              "      <th>...</th>\n",
              "      <td>...</td>\n",
              "      <td>...</td>\n",
              "      <td>...</td>\n",
              "      <td>...</td>\n",
              "      <td>...</td>\n",
              "    </tr>\n",
              "    <tr>\n",
              "      <th>195</th>\n",
              "      <td>155</td>\n",
              "      <td>4.1</td>\n",
              "      <td>11.6</td>\n",
              "      <td>5.7</td>\n",
              "      <td>3.2</td>\n",
              "    </tr>\n",
              "    <tr>\n",
              "      <th>196</th>\n",
              "      <td>80</td>\n",
              "      <td>76.4</td>\n",
              "      <td>26.7</td>\n",
              "      <td>22.3</td>\n",
              "      <td>11.8</td>\n",
              "    </tr>\n",
              "    <tr>\n",
              "      <th>197</th>\n",
              "      <td>181</td>\n",
              "      <td>218.5</td>\n",
              "      <td>5.4</td>\n",
              "      <td>27.4</td>\n",
              "      <td>12.2</td>\n",
              "    </tr>\n",
              "    <tr>\n",
              "      <th>198</th>\n",
              "      <td>145</td>\n",
              "      <td>140.3</td>\n",
              "      <td>1.9</td>\n",
              "      <td>9.0</td>\n",
              "      <td>10.3</td>\n",
              "    </tr>\n",
              "    <tr>\n",
              "      <th>199</th>\n",
              "      <td>36</td>\n",
              "      <td>266.9</td>\n",
              "      <td>43.8</td>\n",
              "      <td>5.0</td>\n",
              "      <td>25.4</td>\n",
              "    </tr>\n",
              "  </tbody>\n",
              "</table>\n",
              "<p>200 rows × 5 columns</p>\n",
              "</div>"
            ],
            "text/plain": [
              "     Unnamed: 0  avg_shares  avg_comments  avg_expert  popularity_score\n",
              "0            19       147.3          23.9        19.1              14.6\n",
              "1            91        28.6           1.5        33.0               7.3\n",
              "2           166        17.9          37.6        21.6               8.0\n",
              "3           196        94.2           4.9         8.1               9.7\n",
              "4            42       293.6          27.7         1.8              20.7\n",
              "..          ...         ...           ...         ...               ...\n",
              "195         155         4.1          11.6         5.7               3.2\n",
              "196          80        76.4          26.7        22.3              11.8\n",
              "197         181       218.5           5.4        27.4              12.2\n",
              "198         145       140.3           1.9         9.0              10.3\n",
              "199          36       266.9          43.8         5.0              25.4\n",
              "\n",
              "[200 rows x 5 columns]"
            ]
          },
          "metadata": {
            "tags": []
          },
          "execution_count": 59
        }
      ]
    },
    {
      "cell_type": "code",
      "metadata": {
        "colab": {
          "base_uri": "https://localhost:8080/",
          "height": 415
        },
        "id": "KXYWO0GzEdgd",
        "outputId": "f9d39e5c-7308-4d2a-ca77-d4c1636aeb67"
      },
      "source": [
        "#Removing the first column of ‘Unnamed: 0’ (1.1)\r\n",
        "del df['Unnamed: 0'] \r\n",
        "df"
      ],
      "execution_count": null,
      "outputs": [
        {
          "output_type": "execute_result",
          "data": {
            "text/html": [
              "<div>\n",
              "<style scoped>\n",
              "    .dataframe tbody tr th:only-of-type {\n",
              "        vertical-align: middle;\n",
              "    }\n",
              "\n",
              "    .dataframe tbody tr th {\n",
              "        vertical-align: top;\n",
              "    }\n",
              "\n",
              "    .dataframe thead th {\n",
              "        text-align: right;\n",
              "    }\n",
              "</style>\n",
              "<table border=\"1\" class=\"dataframe\">\n",
              "  <thead>\n",
              "    <tr style=\"text-align: right;\">\n",
              "      <th></th>\n",
              "      <th>avg_shares</th>\n",
              "      <th>avg_comments</th>\n",
              "      <th>avg_expert</th>\n",
              "      <th>popularity_score</th>\n",
              "    </tr>\n",
              "  </thead>\n",
              "  <tbody>\n",
              "    <tr>\n",
              "      <th>0</th>\n",
              "      <td>147.3</td>\n",
              "      <td>23.9</td>\n",
              "      <td>19.1</td>\n",
              "      <td>14.6</td>\n",
              "    </tr>\n",
              "    <tr>\n",
              "      <th>1</th>\n",
              "      <td>28.6</td>\n",
              "      <td>1.5</td>\n",
              "      <td>33.0</td>\n",
              "      <td>7.3</td>\n",
              "    </tr>\n",
              "    <tr>\n",
              "      <th>2</th>\n",
              "      <td>17.9</td>\n",
              "      <td>37.6</td>\n",
              "      <td>21.6</td>\n",
              "      <td>8.0</td>\n",
              "    </tr>\n",
              "    <tr>\n",
              "      <th>3</th>\n",
              "      <td>94.2</td>\n",
              "      <td>4.9</td>\n",
              "      <td>8.1</td>\n",
              "      <td>9.7</td>\n",
              "    </tr>\n",
              "    <tr>\n",
              "      <th>4</th>\n",
              "      <td>293.6</td>\n",
              "      <td>27.7</td>\n",
              "      <td>1.8</td>\n",
              "      <td>20.7</td>\n",
              "    </tr>\n",
              "    <tr>\n",
              "      <th>...</th>\n",
              "      <td>...</td>\n",
              "      <td>...</td>\n",
              "      <td>...</td>\n",
              "      <td>...</td>\n",
              "    </tr>\n",
              "    <tr>\n",
              "      <th>195</th>\n",
              "      <td>4.1</td>\n",
              "      <td>11.6</td>\n",
              "      <td>5.7</td>\n",
              "      <td>3.2</td>\n",
              "    </tr>\n",
              "    <tr>\n",
              "      <th>196</th>\n",
              "      <td>76.4</td>\n",
              "      <td>26.7</td>\n",
              "      <td>22.3</td>\n",
              "      <td>11.8</td>\n",
              "    </tr>\n",
              "    <tr>\n",
              "      <th>197</th>\n",
              "      <td>218.5</td>\n",
              "      <td>5.4</td>\n",
              "      <td>27.4</td>\n",
              "      <td>12.2</td>\n",
              "    </tr>\n",
              "    <tr>\n",
              "      <th>198</th>\n",
              "      <td>140.3</td>\n",
              "      <td>1.9</td>\n",
              "      <td>9.0</td>\n",
              "      <td>10.3</td>\n",
              "    </tr>\n",
              "    <tr>\n",
              "      <th>199</th>\n",
              "      <td>266.9</td>\n",
              "      <td>43.8</td>\n",
              "      <td>5.0</td>\n",
              "      <td>25.4</td>\n",
              "    </tr>\n",
              "  </tbody>\n",
              "</table>\n",
              "<p>200 rows × 4 columns</p>\n",
              "</div>"
            ],
            "text/plain": [
              "     avg_shares  avg_comments  avg_expert  popularity_score\n",
              "0         147.3          23.9        19.1              14.6\n",
              "1          28.6           1.5        33.0               7.3\n",
              "2          17.9          37.6        21.6               8.0\n",
              "3          94.2           4.9         8.1               9.7\n",
              "4         293.6          27.7         1.8              20.7\n",
              "..          ...           ...         ...               ...\n",
              "195         4.1          11.6         5.7               3.2\n",
              "196        76.4          26.7        22.3              11.8\n",
              "197       218.5           5.4        27.4              12.2\n",
              "198       140.3           1.9         9.0              10.3\n",
              "199       266.9          43.8         5.0              25.4\n",
              "\n",
              "[200 rows x 4 columns]"
            ]
          },
          "metadata": {
            "tags": []
          },
          "execution_count": 60
        }
      ]
    },
    {
      "cell_type": "markdown",
      "metadata": {
        "id": "HPDEOdYtMa7p"
      },
      "source": [
        "\r\n",
        "\r\n",
        "---\r\n",
        "\r\n"
      ]
    },
    {
      "cell_type": "code",
      "metadata": {
        "colab": {
          "base_uri": "https://localhost:8080/",
          "height": 79
        },
        "id": "-v4_E6SqFloe",
        "outputId": "7b5746c9-98f1-47b1-c882-c1dfa7283189"
      },
      "source": [
        "#detecting missing values of the column avg_shares (1.2)\r\n",
        "bool_series = pd.isnull(df[\"avg_shares\"])  \r\n",
        "df[bool_series]  \r\n",
        "\r\n",
        "#Only 1"
      ],
      "execution_count": null,
      "outputs": [
        {
          "output_type": "execute_result",
          "data": {
            "text/html": [
              "<div>\n",
              "<style scoped>\n",
              "    .dataframe tbody tr th:only-of-type {\n",
              "        vertical-align: middle;\n",
              "    }\n",
              "\n",
              "    .dataframe tbody tr th {\n",
              "        vertical-align: top;\n",
              "    }\n",
              "\n",
              "    .dataframe thead th {\n",
              "        text-align: right;\n",
              "    }\n",
              "</style>\n",
              "<table border=\"1\" class=\"dataframe\">\n",
              "  <thead>\n",
              "    <tr style=\"text-align: right;\">\n",
              "      <th></th>\n",
              "      <th>avg_shares</th>\n",
              "      <th>avg_comments</th>\n",
              "      <th>avg_expert</th>\n",
              "      <th>popularity_score</th>\n",
              "    </tr>\n",
              "  </thead>\n",
              "  <tbody>\n",
              "    <tr>\n",
              "      <th>19</th>\n",
              "      <td>NaN</td>\n",
              "      <td>7.6</td>\n",
              "      <td>7.2</td>\n",
              "      <td>9.7</td>\n",
              "    </tr>\n",
              "  </tbody>\n",
              "</table>\n",
              "</div>"
            ],
            "text/plain": [
              "    avg_shares  avg_comments  avg_expert  popularity_score\n",
              "19         NaN           7.6         7.2               9.7"
            ]
          },
          "metadata": {
            "tags": []
          },
          "execution_count": 61
        }
      ]
    },
    {
      "cell_type": "code",
      "metadata": {
        "colab": {
          "base_uri": "https://localhost:8080/",
          "height": 171
        },
        "id": "DQVS4nBPJzGL",
        "outputId": "ee1e06af-9a13-4a10-fb74-8ffc3a736dec"
      },
      "source": [
        "#detecting missing values of the column avg_comments (1.2)\r\n",
        "bool_series = pd.isnull(df[\"avg_comments\"])  \r\n",
        "df[bool_series]  \r\n",
        "\r\n",
        "#ONly 4"
      ],
      "execution_count": null,
      "outputs": [
        {
          "output_type": "execute_result",
          "data": {
            "text/html": [
              "<div>\n",
              "<style scoped>\n",
              "    .dataframe tbody tr th:only-of-type {\n",
              "        vertical-align: middle;\n",
              "    }\n",
              "\n",
              "    .dataframe tbody tr th {\n",
              "        vertical-align: top;\n",
              "    }\n",
              "\n",
              "    .dataframe thead th {\n",
              "        text-align: right;\n",
              "    }\n",
              "</style>\n",
              "<table border=\"1\" class=\"dataframe\">\n",
              "  <thead>\n",
              "    <tr style=\"text-align: right;\">\n",
              "      <th></th>\n",
              "      <th>avg_shares</th>\n",
              "      <th>avg_comments</th>\n",
              "      <th>avg_expert</th>\n",
              "      <th>popularity_score</th>\n",
              "    </tr>\n",
              "  </thead>\n",
              "  <tbody>\n",
              "    <tr>\n",
              "      <th>7</th>\n",
              "      <td>168.4</td>\n",
              "      <td>NaN</td>\n",
              "      <td>12.8</td>\n",
              "      <td>11.7</td>\n",
              "    </tr>\n",
              "    <tr>\n",
              "      <th>26</th>\n",
              "      <td>202.5</td>\n",
              "      <td>NaN</td>\n",
              "      <td>31.6</td>\n",
              "      <td>16.6</td>\n",
              "    </tr>\n",
              "    <tr>\n",
              "      <th>37</th>\n",
              "      <td>163.5</td>\n",
              "      <td>NaN</td>\n",
              "      <td>7.4</td>\n",
              "      <td>18.0</td>\n",
              "    </tr>\n",
              "    <tr>\n",
              "      <th>45</th>\n",
              "      <td>70.6</td>\n",
              "      <td>NaN</td>\n",
              "      <td>40.8</td>\n",
              "      <td>10.5</td>\n",
              "    </tr>\n",
              "  </tbody>\n",
              "</table>\n",
              "</div>"
            ],
            "text/plain": [
              "    avg_shares  avg_comments  avg_expert  popularity_score\n",
              "7        168.4           NaN        12.8              11.7\n",
              "26       202.5           NaN        31.6              16.6\n",
              "37       163.5           NaN         7.4              18.0\n",
              "45        70.6           NaN        40.8              10.5"
            ]
          },
          "metadata": {
            "tags": []
          },
          "execution_count": 62
        }
      ]
    },
    {
      "cell_type": "code",
      "metadata": {
        "colab": {
          "base_uri": "https://localhost:8080/",
          "height": 49
        },
        "id": "J9jLQksBJ4N9",
        "outputId": "43d7c2f6-56c9-44a9-86be-c0ce5a4e3f04"
      },
      "source": [
        "#detecting missing values of the column avg_extert (1.2)\r\n",
        "bool_series = pd.isnull(df[\"avg_expert\"])  \r\n",
        "df[bool_series] \r\n",
        "\r\n",
        "#0 "
      ],
      "execution_count": null,
      "outputs": [
        {
          "output_type": "execute_result",
          "data": {
            "text/html": [
              "<div>\n",
              "<style scoped>\n",
              "    .dataframe tbody tr th:only-of-type {\n",
              "        vertical-align: middle;\n",
              "    }\n",
              "\n",
              "    .dataframe tbody tr th {\n",
              "        vertical-align: top;\n",
              "    }\n",
              "\n",
              "    .dataframe thead th {\n",
              "        text-align: right;\n",
              "    }\n",
              "</style>\n",
              "<table border=\"1\" class=\"dataframe\">\n",
              "  <thead>\n",
              "    <tr style=\"text-align: right;\">\n",
              "      <th></th>\n",
              "      <th>avg_shares</th>\n",
              "      <th>avg_comments</th>\n",
              "      <th>avg_expert</th>\n",
              "      <th>popularity_score</th>\n",
              "    </tr>\n",
              "  </thead>\n",
              "  <tbody>\n",
              "  </tbody>\n",
              "</table>\n",
              "</div>"
            ],
            "text/plain": [
              "Empty DataFrame\n",
              "Columns: [avg_shares, avg_comments, avg_expert, popularity_score]\n",
              "Index: []"
            ]
          },
          "metadata": {
            "tags": []
          },
          "execution_count": 63
        }
      ]
    },
    {
      "cell_type": "code",
      "metadata": {
        "colab": {
          "base_uri": "https://localhost:8080/",
          "height": 49
        },
        "id": "2A-fenvBJ8vY",
        "outputId": "074b953d-a5ed-4147-937a-bc5775f8edfb"
      },
      "source": [
        "#detecting missing values of the column popularity_score (1.2)\r\n",
        "bool_series = pd.isnull(df[\"popularity_score\"])  \r\n",
        "df[bool_series] \r\n",
        "\r\n",
        "#0"
      ],
      "execution_count": null,
      "outputs": [
        {
          "output_type": "execute_result",
          "data": {
            "text/html": [
              "<div>\n",
              "<style scoped>\n",
              "    .dataframe tbody tr th:only-of-type {\n",
              "        vertical-align: middle;\n",
              "    }\n",
              "\n",
              "    .dataframe tbody tr th {\n",
              "        vertical-align: top;\n",
              "    }\n",
              "\n",
              "    .dataframe thead th {\n",
              "        text-align: right;\n",
              "    }\n",
              "</style>\n",
              "<table border=\"1\" class=\"dataframe\">\n",
              "  <thead>\n",
              "    <tr style=\"text-align: right;\">\n",
              "      <th></th>\n",
              "      <th>avg_shares</th>\n",
              "      <th>avg_comments</th>\n",
              "      <th>avg_expert</th>\n",
              "      <th>popularity_score</th>\n",
              "    </tr>\n",
              "  </thead>\n",
              "  <tbody>\n",
              "  </tbody>\n",
              "</table>\n",
              "</div>"
            ],
            "text/plain": [
              "Empty DataFrame\n",
              "Columns: [avg_shares, avg_comments, avg_expert, popularity_score]\n",
              "Index: []"
            ]
          },
          "metadata": {
            "tags": []
          },
          "execution_count": 64
        }
      ]
    },
    {
      "cell_type": "code",
      "metadata": {
        "id": "MXVTLUHfK68D"
      },
      "source": [
        "#replacing them with the mean (1.2)\r\n",
        "df=df.fillna(df.mean()) "
      ],
      "execution_count": null,
      "outputs": []
    },
    {
      "cell_type": "code",
      "metadata": {
        "colab": {
          "base_uri": "https://localhost:8080/",
          "height": 49
        },
        "id": "S_PtU2RRLt3v",
        "outputId": "c7fd1c09-4ca4-4f4d-b7b3-61b6da8760c8"
      },
      "source": [
        "#checking there are no missing values of the column avg_shares (1.2)\r\n",
        "bool_series = pd.isnull(df[\"avg_shares\"])  \r\n",
        "df[bool_series]  "
      ],
      "execution_count": null,
      "outputs": [
        {
          "output_type": "execute_result",
          "data": {
            "text/html": [
              "<div>\n",
              "<style scoped>\n",
              "    .dataframe tbody tr th:only-of-type {\n",
              "        vertical-align: middle;\n",
              "    }\n",
              "\n",
              "    .dataframe tbody tr th {\n",
              "        vertical-align: top;\n",
              "    }\n",
              "\n",
              "    .dataframe thead th {\n",
              "        text-align: right;\n",
              "    }\n",
              "</style>\n",
              "<table border=\"1\" class=\"dataframe\">\n",
              "  <thead>\n",
              "    <tr style=\"text-align: right;\">\n",
              "      <th></th>\n",
              "      <th>avg_shares</th>\n",
              "      <th>avg_comments</th>\n",
              "      <th>avg_expert</th>\n",
              "      <th>popularity_score</th>\n",
              "    </tr>\n",
              "  </thead>\n",
              "  <tbody>\n",
              "  </tbody>\n",
              "</table>\n",
              "</div>"
            ],
            "text/plain": [
              "Empty DataFrame\n",
              "Columns: [avg_shares, avg_comments, avg_expert, popularity_score]\n",
              "Index: []"
            ]
          },
          "metadata": {
            "tags": []
          },
          "execution_count": 66
        }
      ]
    },
    {
      "cell_type": "code",
      "metadata": {
        "colab": {
          "base_uri": "https://localhost:8080/",
          "height": 49
        },
        "id": "Dbu1CflJL7Ya",
        "outputId": "77530197-f963-4153-c09d-02549c5b37dc"
      },
      "source": [
        "#checking there are no missing values of the column avg_comments (1.2)\r\n",
        "bool_series = pd.isnull(df[\"avg_comments\"])  \r\n",
        "df[bool_series]  "
      ],
      "execution_count": null,
      "outputs": [
        {
          "output_type": "execute_result",
          "data": {
            "text/html": [
              "<div>\n",
              "<style scoped>\n",
              "    .dataframe tbody tr th:only-of-type {\n",
              "        vertical-align: middle;\n",
              "    }\n",
              "\n",
              "    .dataframe tbody tr th {\n",
              "        vertical-align: top;\n",
              "    }\n",
              "\n",
              "    .dataframe thead th {\n",
              "        text-align: right;\n",
              "    }\n",
              "</style>\n",
              "<table border=\"1\" class=\"dataframe\">\n",
              "  <thead>\n",
              "    <tr style=\"text-align: right;\">\n",
              "      <th></th>\n",
              "      <th>avg_shares</th>\n",
              "      <th>avg_comments</th>\n",
              "      <th>avg_expert</th>\n",
              "      <th>popularity_score</th>\n",
              "    </tr>\n",
              "  </thead>\n",
              "  <tbody>\n",
              "  </tbody>\n",
              "</table>\n",
              "</div>"
            ],
            "text/plain": [
              "Empty DataFrame\n",
              "Columns: [avg_shares, avg_comments, avg_expert, popularity_score]\n",
              "Index: []"
            ]
          },
          "metadata": {
            "tags": []
          },
          "execution_count": 67
        }
      ]
    },
    {
      "cell_type": "markdown",
      "metadata": {
        "id": "Esronms1MeTs"
      },
      "source": [
        "\r\n",
        "\r\n",
        "---\r\n",
        "\r\n"
      ]
    },
    {
      "cell_type": "code",
      "metadata": {
        "colab": {
          "base_uri": "https://localhost:8080/",
          "height": 269
        },
        "id": "mkCCeQzIMfPn",
        "outputId": "cb9365ea-1542-4c5b-a0b2-3030765e5622"
      },
      "source": [
        "#Drawing the boxplot for all the attributes (1.3)\r\n",
        "boxplot = df.boxplot(column=['avg_shares', 'avg_comments', 'avg_expert', 'popularity_score'])\r\n"
      ],
      "execution_count": null,
      "outputs": [
        {
          "output_type": "display_data",
          "data": {
            "image/png": "[encoded data removed]",
            "text/plain": [
              "<Figure size 432x288 with 1 Axes>"
            ]
          },
          "metadata": {
            "tags": []
          }
        }
      ]
    },
    {
      "cell_type": "markdown",
      "metadata": {
        "id": "eLybS4fzN4G2"
      },
      "source": [
        "\r\n",
        "\r\n",
        "---\r\n",
        "\r\n"
      ]
    },
    {
      "cell_type": "code",
      "metadata": {
        "id": "cSO1-ajiN42r"
      },
      "source": [
        "#Normalize all columns between 0 and 1 (1.4)\r\n",
        "#For any given value, it is normalized as (value-min)/(max-min)\r\n",
        "\r\n",
        "df=(df - df.min()) / (df.max() - df.min())\r\n"
      ],
      "execution_count": null,
      "outputs": []
    },
    {
      "cell_type": "code",
      "metadata": {
        "colab": {
          "base_uri": "https://localhost:8080/",
          "height": 415
        },
        "id": "XuJ4fGBuO0tY",
        "outputId": "2ff97b84-ddd9-4634-83e5-6f6938dffda5"
      },
      "source": [
        "df"
      ],
      "execution_count": null,
      "outputs": [
        {
          "output_type": "execute_result",
          "data": {
            "text/html": [
              "<div>\n",
              "<style scoped>\n",
              "    .dataframe tbody tr th:only-of-type {\n",
              "        vertical-align: middle;\n",
              "    }\n",
              "\n",
              "    .dataframe tbody tr th {\n",
              "        vertical-align: top;\n",
              "    }\n",
              "\n",
              "    .dataframe thead th {\n",
              "        text-align: right;\n",
              "    }\n",
              "</style>\n",
              "<table border=\"1\" class=\"dataframe\">\n",
              "  <thead>\n",
              "    <tr style=\"text-align: right;\">\n",
              "      <th></th>\n",
              "      <th>avg_shares</th>\n",
              "      <th>avg_comments</th>\n",
              "      <th>avg_expert</th>\n",
              "      <th>popularity_score</th>\n",
              "    </tr>\n",
              "  </thead>\n",
              "  <tbody>\n",
              "    <tr>\n",
              "      <th>0</th>\n",
              "      <td>0.495773</td>\n",
              "      <td>0.481855</td>\n",
              "      <td>0.165347</td>\n",
              "      <td>0.511811</td>\n",
              "    </tr>\n",
              "    <tr>\n",
              "      <th>1</th>\n",
              "      <td>0.094352</td>\n",
              "      <td>0.030242</td>\n",
              "      <td>0.287599</td>\n",
              "      <td>0.224409</td>\n",
              "    </tr>\n",
              "    <tr>\n",
              "      <th>2</th>\n",
              "      <td>0.058167</td>\n",
              "      <td>0.758065</td>\n",
              "      <td>0.187335</td>\n",
              "      <td>0.251969</td>\n",
              "    </tr>\n",
              "    <tr>\n",
              "      <th>3</th>\n",
              "      <td>0.316199</td>\n",
              "      <td>0.098790</td>\n",
              "      <td>0.068602</td>\n",
              "      <td>0.318898</td>\n",
              "    </tr>\n",
              "    <tr>\n",
              "      <th>4</th>\n",
              "      <td>0.990531</td>\n",
              "      <td>0.558468</td>\n",
              "      <td>0.013193</td>\n",
              "      <td>0.751969</td>\n",
              "    </tr>\n",
              "    <tr>\n",
              "      <th>...</th>\n",
              "      <td>...</td>\n",
              "      <td>...</td>\n",
              "      <td>...</td>\n",
              "      <td>...</td>\n",
              "    </tr>\n",
              "    <tr>\n",
              "      <th>195</th>\n",
              "      <td>0.011498</td>\n",
              "      <td>0.233871</td>\n",
              "      <td>0.047493</td>\n",
              "      <td>0.062992</td>\n",
              "    </tr>\n",
              "    <tr>\n",
              "      <th>196</th>\n",
              "      <td>0.256003</td>\n",
              "      <td>0.538306</td>\n",
              "      <td>0.193492</td>\n",
              "      <td>0.401575</td>\n",
              "    </tr>\n",
              "    <tr>\n",
              "      <th>197</th>\n",
              "      <td>0.736557</td>\n",
              "      <td>0.108871</td>\n",
              "      <td>0.238347</td>\n",
              "      <td>0.417323</td>\n",
              "    </tr>\n",
              "    <tr>\n",
              "      <th>198</th>\n",
              "      <td>0.472100</td>\n",
              "      <td>0.038306</td>\n",
              "      <td>0.076517</td>\n",
              "      <td>0.342520</td>\n",
              "    </tr>\n",
              "    <tr>\n",
              "      <th>199</th>\n",
              "      <td>0.900237</td>\n",
              "      <td>0.883065</td>\n",
              "      <td>0.041337</td>\n",
              "      <td>0.937008</td>\n",
              "    </tr>\n",
              "  </tbody>\n",
              "</table>\n",
              "<p>200 rows × 4 columns</p>\n",
              "</div>"
            ],
            "text/plain": [
              "     avg_shares  avg_comments  avg_expert  popularity_score\n",
              "0      0.495773      0.481855    0.165347          0.511811\n",
              "1      0.094352      0.030242    0.287599          0.224409\n",
              "2      0.058167      0.758065    0.187335          0.251969\n",
              "3      0.316199      0.098790    0.068602          0.318898\n",
              "4      0.990531      0.558468    0.013193          0.751969\n",
              "..          ...           ...         ...               ...\n",
              "195    0.011498      0.233871    0.047493          0.062992\n",
              "196    0.256003      0.538306    0.193492          0.401575\n",
              "197    0.736557      0.108871    0.238347          0.417323\n",
              "198    0.472100      0.038306    0.076517          0.342520\n",
              "199    0.900237      0.883065    0.041337          0.937008\n",
              "\n",
              "[200 rows x 4 columns]"
            ]
          },
          "metadata": {
            "tags": []
          },
          "execution_count": 70
        }
      ]
    },
    {
      "cell_type": "markdown",
      "metadata": {
        "id": "D_WXCZB4RxIJ"
      },
      "source": [
        "\r\n",
        "\r\n",
        "---\r\n",
        "# Question 2: \r\n",
        "Visualize through scatter plots the relationship of each attribute with the target attribute.\r\n",
        "\r\n"
      ]
    },
    {
      "cell_type": "code",
      "metadata": {
        "colab": {
          "base_uri": "https://localhost:8080/",
          "height": 303
        },
        "id": "9MbaQMumUYMd",
        "outputId": "7f217e3b-3d4f-49fd-ceb7-e270264241e1"
      },
      "source": [
        "#Scatter plot of avg_shares and popularity_scores\r\n",
        "df.plot(x='avg_shares', y='popularity_score', style='o')\r\n"
      ],
      "execution_count": null,
      "outputs": [
        {
          "output_type": "execute_result",
          "data": {
            "text/plain": [
              "<matplotlib.axes._subplots.AxesSubplot at 0x7f5d3641b198>"
            ]
          },
          "metadata": {
            "tags": []
          },
          "execution_count": 71
        },
        {
          "output_type": "display_data",
          "data": {
            "image/png": "[encoded data removed]",
            "text/plain": [
              "<Figure size 432x288 with 1 Axes>"
            ]
          },
          "metadata": {
            "tags": []
          }
        }
      ]
    },
    {
      "cell_type": "code",
      "metadata": {
        "colab": {
          "base_uri": "https://localhost:8080/",
          "height": 303
        },
        "id": "5nc9Y6dmVEAC",
        "outputId": "224ee3cb-cf9d-4dc3-a381-9ed93b1c5ece"
      },
      "source": [
        "#Scatter plot of avg_comments and popularity_scores\r\n",
        "df.plot(x='avg_comments', y='popularity_score', style='o')\r\n"
      ],
      "execution_count": null,
      "outputs": [
        {
          "output_type": "execute_result",
          "data": {
            "text/plain": [
              "<matplotlib.axes._subplots.AxesSubplot at 0x7f5d364763c8>"
            ]
          },
          "metadata": {
            "tags": []
          },
          "execution_count": 72
        },
        {
          "output_type": "display_data",
          "data": {
            "image/png": "[encoded data removed]",
            "text/plain": [
              "<Figure size 432x288 with 1 Axes>"
            ]
          },
          "metadata": {
            "tags": []
          }
        }
      ]
    },
    {
      "cell_type": "code",
      "metadata": {
        "colab": {
          "base_uri": "https://localhost:8080/",
          "height": 303
        },
        "id": "JTm-nMZTVWq-",
        "outputId": "51f14fd7-2937-48bf-bd09-8b248b766729"
      },
      "source": [
        "#Scatter plot of avg_expert and popularity_scores\r\n",
        "df.plot(x='avg_expert', y='popularity_score', style='o')\r\n"
      ],
      "execution_count": null,
      "outputs": [
        {
          "output_type": "execute_result",
          "data": {
            "text/plain": [
              "<matplotlib.axes._subplots.AxesSubplot at 0x7f5d5e5e2c50>"
            ]
          },
          "metadata": {
            "tags": []
          },
          "execution_count": 73
        },
        {
          "output_type": "display_data",
          "data": {
            "image/png": "[encoded data removed]",
            "text/plain": [
              "<Figure size 432x288 with 1 Axes>"
            ]
          },
          "metadata": {
            "tags": []
          }
        }
      ]
    },
    {
      "cell_type": "markdown",
      "metadata": {
        "id": "gq5e_pKoVcZ7"
      },
      "source": [
        "\r\n",
        "\r\n",
        "---\r\n",
        "# Question 3:\r\n",
        "Split the dataset into train and test, into 70% and 30% respectively. \r\n"
      ]
    },
    {
      "cell_type": "code",
      "metadata": {
        "id": "sl5_gvYEVmMR"
      },
      "source": [
        "from sklearn.model_selection import train_test_split\r\n",
        "#importing library"
      ],
      "execution_count": null,
      "outputs": []
    },
    {
      "cell_type": "code",
      "metadata": {
        "id": "J2HNIdg9X7ex"
      },
      "source": [
        "#By default, Sklearn train_test_split will make random partitions for the two subsets\r\n",
        "list1= ['avg_shares','avg_comments','avg_expert']\r\n",
        "X= df[list1]\r\n",
        "y= df['popularity_score']\r\n",
        "\r\n",
        "X_train, X_test, y_train, y_test = train_test_split(X, y, train_size=0.70, test_size=0.30, random_state = 0)\r\n"
      ],
      "execution_count": null,
      "outputs": []
    },
    {
      "cell_type": "code",
      "metadata": {
        "colab": {
          "base_uri": "https://localhost:8080/"
        },
        "id": "JIJbTi84aP1C",
        "outputId": "42fc1f6c-1d23-46de-a26a-86e9682cf590"
      },
      "source": [
        "print (\"X_train: \", X_train)\r\n",
        "print (\"y_train: \", y_train)\r\n",
        "print(\"X_test: \", X_test)\r\n",
        "print (\"y_test: \", y_test)"
      ],
      "execution_count": null,
      "outputs": [
        {
          "output_type": "stream",
          "text": [
            "X_train:       avg_shares  avg_comments  avg_expert\n",
            "131    0.761245      0.165323    0.494283\n",
            "96     0.615150      0.931452    0.513632\n",
            "181    0.054785      0.881048    0.783641\n",
            "19     0.495744      0.153226    0.060686\n",
            "153    0.790666      0.068548    0.743184\n",
            "..          ...           ...         ...\n",
            "67     0.855935      0.429435    0.261214\n",
            "192    0.749746      0.086694    0.435356\n",
            "117    0.454853      0.840726    0.401055\n",
            "47     0.609063      0.217742    0.510994\n",
            "172    0.143050      0.522177    0.177661\n",
            "\n",
            "[140 rows x 3 columns]\n",
            "y_train:  131    0.464567\n",
            "96     0.771654\n",
            "181    0.279528\n",
            "19     0.318898\n",
            "153    0.405512\n",
            "         ...   \n",
            "67     0.629921\n",
            "192    0.397638\n",
            "117    0.614173\n",
            "47     0.444882\n",
            "172    0.314961\n",
            "Name: popularity_score, Length: 140, dtype: float64\n",
            "X_test:       avg_shares  avg_comments  avg_expert\n",
            "18     0.509976      0.832661    0.511873\n",
            "170    0.022320      0.566532    0.361478\n",
            "107    0.723706      0.483871    0.032542\n",
            "98     0.633074      0.346774    0.154793\n",
            "177    0.406831      0.169355    0.425682\n",
            "182    0.755157      0.048387    0.134565\n",
            "5      0.463984      0.935484    0.516271\n",
            "146    0.192087      0.661290    0.204046\n",
            "12     1.000000      0.731855    0.884785\n",
            "152    0.710179      0.594758    0.079156\n",
            "61     0.956713      0.846774    0.579595\n",
            "125    0.451809      0.098790    0.079156\n",
            "180    0.245857      0.342742    0.110818\n",
            "154    0.773757      0.651210    0.649956\n",
            "80     0.815015      0.766129    0.201407\n",
            "7      0.567129      0.470149    0.109938\n",
            "33     0.226919      0.737903    1.000000\n",
            "130    0.846128      0.735887    0.633245\n",
            "37     0.550558      0.470149    0.062445\n",
            "74     0.839026      0.546371    0.198769\n",
            "183    0.255665      0.554435    0.138083\n",
            "145    0.088265      0.665323    0.167106\n",
            "45     0.236388      0.470149    0.356201\n",
            "159    0.561718      0.846774    0.029024\n",
            "60     0.300981      0.199597    0.311346\n",
            "123    0.178559      0.040323    0.185576\n",
            "179    0.256003      0.016129    0.127529\n",
            "185    0.131214      0.828629    0.048373\n",
            "122    0.730808      0.885081    0.236588\n",
            "44     0.977342      0.852823    0.447669\n",
            "16     0.440987      0.862903    0.251539\n",
            "55     0.742645      0.987903    0.025506\n",
            "150    0.252959      0.217742    0.050132\n",
            "111    0.228948      0.897177    0.310466\n",
            "22     0.665878      0.070565    0.049252\n",
            "189    0.894488      0.058468    0.375550\n",
            "129    0.775786      0.762097    0.605981\n",
            "4      0.990531      0.558468    0.013193\n",
            "83     0.527224      0.052419    0.070361\n",
            "106    0.026716      0.042339    0.006157\n",
            "134    0.650998      0.370968    0.575198\n",
            "66     0.223876      0.235887    0.321020\n",
            "26     0.682448      0.470149    0.275286\n",
            "113    0.504227      0.026210    0.211082\n",
            "168    0.980724      0.082661    0.072120\n",
            "63     0.959080      0.213710    0.053650\n",
            "8      0.945215      0.203629    0.185576\n",
            "75     0.379439      0.350806    0.336851\n",
            "118    0.126141      0.812500    0.102023\n",
            "143    0.221170      0.116935    0.210202\n",
            "71     0.027054      0.985887    0.656992\n",
            "124    0.934055      0.985887    0.364996\n",
            "184    0.591816      0.310484    0.018470\n",
            "97     0.480893      0.590726    0.108179\n",
            "149    0.268854      0.000000    0.078276\n",
            "24     0.250254      0.995968    0.399296\n",
            "30     0.321272      0.028226    0.062445\n",
            "160    0.303348      0.006048    0.201407\n",
            "40     0.808928      0.836694    0.160070\n",
            "56     0.337166      0.193548    0.029024\n",
            "y_test:  18     0.665354\n",
            "170    0.153543\n",
            "107    0.622047\n",
            "98     0.515748\n",
            "177    0.393701\n",
            "182    0.393701\n",
            "5      0.692913\n",
            "146    0.401575\n",
            "12     0.874016\n",
            "152    0.661417\n",
            "61     0.940945\n",
            "125    0.377953\n",
            "180    0.366142\n",
            "154    0.712598\n",
            "80     0.795276\n",
            "7      0.397638\n",
            "33     0.429134\n",
            "130    0.811024\n",
            "37     0.645669\n",
            "74     0.681102\n",
            "183    0.409449\n",
            "145    0.283465\n",
            "45     0.350394\n",
            "159    0.708661\n",
            "60     0.354331\n",
            "123    0.255906\n",
            "179    0.307087\n",
            "185    0.362205\n",
            "122    0.814961\n",
            "44     0.937008\n",
            "16     0.645669\n",
            "55     0.909449\n",
            "150    0.326772\n",
            "111    0.472441\n",
            "22     0.397638\n",
            "189    0.437008\n",
            "129    0.807087\n",
            "4      0.751969\n",
            "83     0.350394\n",
            "106    0.125984\n",
            "134    0.535433\n",
            "66     0.318898\n",
            "26     0.590551\n",
            "113    0.334646\n",
            "168    0.440945\n",
            "63     0.527559\n",
            "8      0.519685\n",
            "75     0.405512\n",
            "118    0.366142\n",
            "143    0.275591\n",
            "71     0.220472\n",
            "124    1.000000\n",
            "184    0.492126\n",
            "97     0.527559\n",
            "149    0.283465\n",
            "24     0.515748\n",
            "30     0.311024\n",
            "160    0.279528\n",
            "40     0.850394\n",
            "56     0.358268\n",
            "Name: popularity_score, dtype: float64\n"
          ],
          "name": "stdout"
        }
      ]
    },
    {
      "cell_type": "markdown",
      "metadata": {
        "id": "NZoCbqY5cT7L"
      },
      "source": [
        "\r\n",
        "\r\n",
        "---\r\n",
        "# Question 4:\r\n",
        "Train the linear regression model and print the coefficients (parameters) learned by the final model. "
      ]
    },
    {
      "cell_type": "code",
      "metadata": {
        "id": "2-_3zwW-ccG1"
      },
      "source": [
        "#using Statsmodels and scikit-learn\r\n",
        "import statsmodels.formula.api as smf\r\n",
        "from sklearn.linear_model import LinearRegression\r\n",
        "from sklearn import metrics\r\n",
        "\r\n"
      ],
      "execution_count": null,
      "outputs": []
    },
    {
      "cell_type": "code",
      "metadata": {
        "colab": {
          "base_uri": "https://localhost:8080/"
        },
        "id": "UCy_QWdSRpu-",
        "outputId": "917dd134-ecb5-4209-ce7d-5f6d4b4bb93b"
      },
      "source": [
        "#STATSMODELS\r\n",
        "\r\n",
        "lm1 = smf.ols(formula='popularity_score ~ avg_shares + avg_comments + avg_expert', data=df).fit()\r\n",
        "lm1.params"
      ],
      "execution_count": null,
      "outputs": [
        {
          "output_type": "execute_result",
          "data": {
            "text/plain": [
              "Intercept       0.051880\n",
              "avg_shares      0.533602\n",
              "avg_comments    0.369390\n",
              "avg_expert     -0.003771\n",
              "dtype: float64"
            ]
          },
          "metadata": {
            "tags": []
          },
          "execution_count": 78
        }
      ]
    },
    {
      "cell_type": "code",
      "metadata": {
        "colab": {
          "base_uri": "https://localhost:8080/"
        },
        "id": "zA2hOElvUSKd",
        "outputId": "fda1bad0-0ab0-4493-da49-70dc0be916c1"
      },
      "source": [
        "#SCIKIT-LEARN \r\n",
        "\r\n",
        "lm2 = LinearRegression()\r\n",
        "lm2.fit(X, y)\r\n",
        "print (\"Intercept : \",lm2.intercept_)\r\n",
        "print (\"Coefficients : \",lm2.coef_)"
      ],
      "execution_count": null,
      "outputs": [
        {
          "output_type": "stream",
          "text": [
            "Intercept :  0.05187993568885607\n",
            "Coefficients :  [ 0.53360188  0.36939012 -0.00377081]\n"
          ],
          "name": "stdout"
        }
      ]
    },
    {
      "cell_type": "code",
      "metadata": {
        "id": "EAAfJULAU9Eg"
      },
      "source": [
        "#The parameters are the same in both cases. The value of β1 for\r\n",
        "#     x            β1 \r\n",
        "# avg_shares =   0.533602\r\n",
        "# avg_comments = 0.369390\r\n",
        "# avg_expert =  -0.003771\r\n",
        "\r\n",
        "#A “unit” increase in x is associated with a β1 “unit” increase in popularity_score\r\n",
        "#But when β1 is negative, it is associated with a decrease in popularity_score"
      ],
      "execution_count": null,
      "outputs": []
    },
    {
      "cell_type": "markdown",
      "metadata": {
        "id": "sUNMt4Aq-7ZQ"
      },
      "source": [
        "\r\n",
        "\r\n",
        "---\r\n",
        "# Question 5:\r\n",
        " Print the confidence interval and p-value of each of the coefficients, and explain your interpretations.\r\n",
        "\r\n"
      ]
    },
    {
      "cell_type": "code",
      "metadata": {
        "colab": {
          "base_uri": "https://localhost:8080/"
        },
        "id": "G3Aao_SWZ_jU",
        "outputId": "f646bff4-14c2-4cd4-df7e-e1ad2a158a5d"
      },
      "source": [
        "#Confidence interval\r\n",
        "from scipy.stats import sem, t\r\n",
        "from scipy import mean\r\n",
        "confidence = 0.95\r\n",
        "\r\n",
        "\r\n",
        "n = len(df)\r\n",
        "m = mean(df)\r\n",
        "std_err = sem(df)\r\n",
        "h = std_err * t.ppf((1 + confidence) / 2, n - 1)\r\n",
        "\r\n",
        "start = m - h\r\n",
        "end = m + h\r\n",
        "\r\n",
        "print(start) \r\n",
        "print(end)"
      ],
      "execution_count": null,
      "outputs": [
        {
          "output_type": "stream",
          "text": [
            "avg_shares          0.455293\n",
            "avg_comments        0.428649\n",
            "avg_expert          0.239378\n",
            "popularity_score    0.460433\n",
            "dtype: float64\n",
            "avg_shares          0.536195\n",
            "avg_comments        0.511649\n",
            "avg_expert          0.292795\n",
            "popularity_score    0.517717\n",
            "dtype: float64\n"
          ],
          "name": "stdout"
        },
        {
          "output_type": "stream",
          "text": [
            "/usr/local/lib/python3.6/dist-packages/ipykernel_launcher.py:8: DeprecationWarning: scipy.mean is deprecated and will be removed in SciPy 2.0.0, use numpy.mean instead\n",
            "  \n"
          ],
          "name": "stderr"
        }
      ]
    },
    {
      "cell_type": "code",
      "metadata": {
        "id": "vMhjzkPQdsmm"
      },
      "source": [
        "# In a confidence interval, the range of values above and below the sample statistic is called the margin of error.\r\n",
        "# The range of the confidence interval is defined by the sample statistic +/- margin of error. \r\n",
        "# And the uncertainty is denoted by the confidence level. \r\n",
        "# Therefore, 95% confidence interval is given here. "
      ],
      "execution_count": null,
      "outputs": []
    },
    {
      "cell_type": "code",
      "metadata": {
        "colab": {
          "base_uri": "https://localhost:8080/"
        },
        "id": "q6yBWZVqWcQP",
        "outputId": "1e557c49-74a9-4bec-f60c-23e3c65e58ad"
      },
      "source": [
        "# print the p-values for the model coefficients (STATSMODELS)\r\n",
        "lm1.pvalues"
      ],
      "execution_count": null,
      "outputs": [
        {
          "output_type": "execute_result",
          "data": {
            "text/plain": [
              "Intercept       4.995042e-05\n",
              "avg_shares      2.360431e-80\n",
              "avg_comments    2.882299e-53\n",
              "avg_expert      8.881877e-01\n",
              "dtype: float64"
            ]
          },
          "metadata": {
            "tags": []
          },
          "execution_count": 83
        }
      ]
    },
    {
      "cell_type": "code",
      "metadata": {
        "id": "NPqhe8KtXZa5"
      },
      "source": [
        "#A p-value less than 0.05 is a way to decide whether there is likely a relationship between the feature and the response.\r\n",
        "#In this case, the p-value for all (avg_shares, avg_comments, avg_expert) is far less than 0.05\r\n",
        "#So there can be a relationship between:\r\n",
        "# avg_shares and popularity_score \r\n",
        "# avg_comments and popularity_score\r\n",
        "# avg_expert and popularity_score"
      ],
      "execution_count": null,
      "outputs": []
    },
    {
      "cell_type": "markdown",
      "metadata": {
        "id": "YGRDRsSI_Dx7"
      },
      "source": [
        "\r\n",
        "\r\n",
        "---\r\n",
        "# Question 6:\r\n",
        " Evaluate the logistic regression model and print the values of RMSE, MAE, and MSE.\r\n",
        "\r\n"
      ]
    },
    {
      "cell_type": "code",
      "metadata": {
        "colab": {
          "base_uri": "https://localhost:8080/"
        },
        "id": "FcBkECYGhoiY",
        "outputId": "e4a26999-5ace-4cd7-a330-e1f5f235911e"
      },
      "source": [
        "#predict() function enables us to predict the labels of the data values on the basis of the trained model.\r\n",
        "lm1.predict(X_test)"
      ],
      "execution_count": null,
      "outputs": [
        {
          "output_type": "execute_result",
          "data": {
            "text/plain": [
              "18     0.629651\n",
              "170    0.271698\n",
              "107    0.616666\n",
              "98     0.517201\n",
              "177    0.329919\n",
              "182    0.472200\n",
              "5      0.643074\n",
              "146    0.397882\n",
              "12     0.852485\n",
              "152    0.650232\n",
              "61     0.872988\n",
              "125    0.329160\n",
              "180    0.309257\n",
              "154    0.702858\n",
              "80     0.769015\n",
              "7      0.527755\n",
              "33     0.441768\n",
              "130    0.772817\n",
              "37     0.519092\n",
              "74     0.700660\n",
              "183    0.392585\n",
              "145    0.344112\n",
              "45     0.350342\n",
              "159    0.664294\n",
              "60     0.285039\n",
              "123    0.161355\n",
              "179    0.193960\n",
              "185    0.427801\n",
              "122    0.767889\n",
              "44     0.886728\n",
              "16     0.604991\n",
              "55     0.812982\n",
              "150    0.267102\n",
              "111    0.504285\n",
              "22     0.433074\n",
              "189    0.549362\n",
              "129    0.745067\n",
              "4      0.786672\n",
              "83     0.352305\n",
              "106    0.081752\n",
              "134    0.534116\n",
              "66     0.257264\n",
              "26     0.588666\n",
              "113    0.329822\n",
              "168    0.605458\n",
              "63     0.642387\n",
              "8      0.630767\n",
              "75     0.382663\n",
              "118    0.418934\n",
              "143    0.212299\n",
              "71     0.428016\n",
              "124    0.913094\n",
              "184    0.482294\n",
              "97     0.526286\n",
              "149    0.195046\n",
              "24     0.551811\n",
              "30     0.233502\n",
              "160    0.215222\n",
              "40     0.791988\n",
              "56     0.303178\n",
              "dtype: float64"
            ]
          },
          "metadata": {
            "tags": []
          },
          "execution_count": 85
        }
      ]
    },
    {
      "cell_type": "code",
      "metadata": {
        "colab": {
          "base_uri": "https://localhost:8080/"
        },
        "id": "gwcSfKuPjh-n",
        "outputId": "e7ffb557-c435-44da-82de-cf83e5f3d119"
      },
      "source": [
        "#the actual values for comparison purposes\r\n",
        "y_test"
      ],
      "execution_count": null,
      "outputs": [
        {
          "output_type": "execute_result",
          "data": {
            "text/plain": [
              "18     0.665354\n",
              "170    0.153543\n",
              "107    0.622047\n",
              "98     0.515748\n",
              "177    0.393701\n",
              "182    0.393701\n",
              "5      0.692913\n",
              "146    0.401575\n",
              "12     0.874016\n",
              "152    0.661417\n",
              "61     0.940945\n",
              "125    0.377953\n",
              "180    0.366142\n",
              "154    0.712598\n",
              "80     0.795276\n",
              "7      0.397638\n",
              "33     0.429134\n",
              "130    0.811024\n",
              "37     0.645669\n",
              "74     0.681102\n",
              "183    0.409449\n",
              "145    0.283465\n",
              "45     0.350394\n",
              "159    0.708661\n",
              "60     0.354331\n",
              "123    0.255906\n",
              "179    0.307087\n",
              "185    0.362205\n",
              "122    0.814961\n",
              "44     0.937008\n",
              "16     0.645669\n",
              "55     0.909449\n",
              "150    0.326772\n",
              "111    0.472441\n",
              "22     0.397638\n",
              "189    0.437008\n",
              "129    0.807087\n",
              "4      0.751969\n",
              "83     0.350394\n",
              "106    0.125984\n",
              "134    0.535433\n",
              "66     0.318898\n",
              "26     0.590551\n",
              "113    0.334646\n",
              "168    0.440945\n",
              "63     0.527559\n",
              "8      0.519685\n",
              "75     0.405512\n",
              "118    0.366142\n",
              "143    0.275591\n",
              "71     0.220472\n",
              "124    1.000000\n",
              "184    0.492126\n",
              "97     0.527559\n",
              "149    0.283465\n",
              "24     0.515748\n",
              "30     0.311024\n",
              "160    0.279528\n",
              "40     0.850394\n",
              "56     0.358268\n",
              "Name: popularity_score, dtype: float64"
            ]
          },
          "metadata": {
            "tags": []
          },
          "execution_count": 86
        }
      ]
    },
    {
      "cell_type": "code",
      "metadata": {
        "id": "u4WP4CQXlwsR"
      },
      "source": [
        "#Storing the evaluation\r\n",
        "y_predicted = lm1.predict(X_test)"
      ],
      "execution_count": null,
      "outputs": []
    },
    {
      "cell_type": "code",
      "metadata": {
        "colab": {
          "base_uri": "https://localhost:8080/"
        },
        "id": "nV8tFEsbk9da",
        "outputId": "eb79930a-bb3a-4582-dec4-7ae3ee4bc06f"
      },
      "source": [
        "#RMSE\r\n",
        "print (\"Mean Absolute Error :\",metrics.mean_absolute_error(y_test, y_predicted))\r\n",
        "\r\n",
        "#MAE\r\n",
        "print (\"Mean Squared Error : \",metrics.mean_squared_error(y_test, y_predicted))\r\n",
        "\r\n",
        "#MSE\r\n",
        "print (\"Root Mean Squared Error : \",np.sqrt(metrics.mean_squared_error(y_test, y_predicted)))"
      ],
      "execution_count": null,
      "outputs": [
        {
          "output_type": "stream",
          "text": [
            "Mean Absolute Error : 0.054858079631975344\n",
            "Mean Squared Error :  0.00487772880248863\n",
            "Root Mean Squared Error :  0.06984073884552361\n"
          ],
          "name": "stdout"
        }
      ]
    },
    {
      "cell_type": "markdown",
      "metadata": {
        "id": "oXlBtkU7_IU8"
      },
      "source": [
        "\r\n",
        "\r\n",
        "---\r\n",
        "# Question 7:\r\n",
        "Plot residual curve and Q-Q plot\r\n",
        "\r\n"
      ]
    },
    {
      "cell_type": "code",
      "metadata": {
        "colab": {
          "base_uri": "https://localhost:8080/",
          "height": 303
        },
        "id": "GVue9ozwmMmt",
        "outputId": "9f3a1977-78df-41e4-e8ba-e8cfe8b703b0"
      },
      "source": [
        "#Residual Curve\r\n",
        "import seaborn as sns\r\n",
        "sns.set_theme(style=\"whitegrid\")\r\n",
        "\r\n",
        "sns.residplot(x=y_test, y=y_predicted, lowess=True, color=\"g\")"
      ],
      "execution_count": null,
      "outputs": [
        {
          "output_type": "execute_result",
          "data": {
            "text/plain": [
              "<matplotlib.axes._subplots.AxesSubplot at 0x7f5d5e652eb8>"
            ]
          },
          "metadata": {
            "tags": []
          },
          "execution_count": 89
        },
        {
          "output_type": "display_data",
          "data": {
            "image/png": "[encoded data removed]",
            "text/plain": [
              "<Figure size 432x288 with 1 Axes>"
            ]
          },
          "metadata": {
            "tags": []
          }
        }
      ]
    },
    {
      "cell_type": "code",
      "metadata": {
        "colab": {
          "base_uri": "https://localhost:8080/",
          "height": 285
        },
        "id": "IWfdPzBdmqWq",
        "outputId": "3b1f2d1c-2788-4793-8fa3-9792c1d5644a"
      },
      "source": [
        "#Q-Q Plot\r\n",
        "import statsmodels.api as sm \r\n",
        "import pylab as py \r\n",
        "\r\n",
        "\r\n",
        "sm.qqplot(y_predicted, line ='45') \r\n",
        "py.show() "
      ],
      "execution_count": null,
      "outputs": [
        {
          "output_type": "display_data",
          "data": {
            "image/png": "[encoded data removed]",
            "text/plain": [
              "<Figure size 432x288 with 1 Axes>"
            ]
          },
          "metadata": {
            "tags": []
          }
        }
      ]
    },
    {
      "cell_type": "markdown",
      "metadata": {
        "id": "aVuwQWl1r1el"
      },
      "source": [
        "\r\n",
        "\r\n",
        "---\r\n",
        "# 026 Srinidhi Ayyagari\r\n",
        "\r\n"
      ]
    }
  ]
}